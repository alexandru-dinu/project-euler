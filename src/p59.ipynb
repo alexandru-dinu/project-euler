{
 "cells": [
  {
   "cell_type": "code",
   "execution_count": null,
   "metadata": {},
   "outputs": [],
   "source": [
    "import numpy as np\n",
    "from collections import Counter\n",
    "\n",
    "enc = list(map(int, open('data/p059_cipher.txt').read().strip().split(',')))\n",
    "\n",
    "to_string = lambda x: ''.join(map(chr, x))\n",
    "to_ascii  = lambda x: list(map(ord, x))\n",
    "\n",
    "K = 3 # keylen\n",
    "key = []\n",
    "most_likely = ' ' # frequency analysis on K splits\n",
    "\n",
    "enc_splits = {k: enc[k::K] for k in range(K)}\n",
    "\n",
    "for k in range(K):\n",
    "    x, f = Counter(enc_splits[k]).most_common()[0]\n",
    "    key.append(ord(most_likely) ^ x)\n",
    "    \n",
    "print(f'KEY: {to_string(key)} ({key})')\n",
    "    \n",
    "dec_splits = {k: list(map(lambda x: chr(key[k] ^ x), enc_splits[k])) for k in range(K)}\n",
    "\n",
    "dec = [None] * len(enc)\n",
    "for k in range(K):\n",
    "    dec[k::K] = dec_splits[k]    \n",
    "dec = ''.join(dec)\n",
    "\n",
    "print(f'DECRYPTED: {dec}')\n",
    "print(f'ASCII SUM: {sum(to_ascii(dec))}')"
   ]
  }
 ],
 "metadata": {
  "kernelspec": {
   "display_name": "Python 3",
   "language": "python",
   "name": "python3"
  },
  "language_info": {
   "codemirror_mode": {
    "name": "ipython",
    "version": 3
   },
   "file_extension": ".py",
   "mimetype": "text/x-python",
   "name": "python",
   "nbconvert_exporter": "python",
   "pygments_lexer": "ipython3",
   "version": "3.7.6"
  }
 },
 "nbformat": 4,
 "nbformat_minor": 4
}
