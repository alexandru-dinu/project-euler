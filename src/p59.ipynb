{
 "cells": [
  {
   "cell_type": "code",
   "execution_count": 1,
   "metadata": {},
   "outputs": [
    {
     "name": "stdout",
     "output_type": "stream",
     "text": [
      "KEY: exp ([101, 120, 112])\n",
      "DECRYPTED: An extract taken from the introduction of one of Euler's most celebrated papers, \"De summis serierum reciprocarum\" [On the sums of series of reciprocals]: I have recently found, quite unexpectedly, an elegant expression for the entire sum of this series 1 + 1/4 + 1/9 + 1/16 + etc., which depends on the quadrature of the circle, so that if the true sum of this series is obtained, from it at once the quadrature of the circle follows. Namely, I have found that the sum of this series is a sixth part of the square of the perimeter of the circle whose diameter is 1; or by putting the sum of this series equal to s, it has the ratio sqrt(6) multiplied by s to 1 of the perimeter to the diameter. I will soon show that the sum of this series to be approximately 1.644934066842264364; and from multiplying this number by six, and then taking the square root, the number 3.141592653589793238 is indeed produced, which expresses the perimeter of a circle whose diameter is 1. Following again the same steps by which I had arrived at this sum, I have discovered that the sum of the series 1 + 1/16 + 1/81 + 1/256 + 1/625 + etc. also depends on the quadrature of the circle. Namely, the sum of this multiplied by 90 gives the biquadrate (fourth power) of the circumference of the perimeter of a circle whose diameter is 1. And by similar reasoning I have likewise been able to determine the sums of the subsequent series in which the exponents are even numbers.\n",
      "ASCII SUM: 129448\n"
     ]
    }
   ],
   "source": [
    "import numpy as np\n",
    "from collections import Counter\n",
    "\n",
    "enc = list(map(int, open('data/p059_cipher.txt').read().strip().split(',')))\n",
    "\n",
    "to_string = lambda x: ''.join(map(chr, x))\n",
    "to_ascii  = lambda x: list(map(ord, x))\n",
    "\n",
    "K = 3 # keylen\n",
    "key = []\n",
    "most_likely = ' ' # frequency analysis on K splits\n",
    "\n",
    "enc_splits = {k: enc[k::K] for k in range(K)}\n",
    "\n",
    "for k in range(K):\n",
    "    x, f = Counter(enc_splits[k]).most_common()[0]\n",
    "    key.append(ord(most_likely) ^ x)\n",
    "    \n",
    "print(f'KEY: {to_string(key)} ({key})')\n",
    "    \n",
    "dec_splits = {k: list(map(lambda x: chr(key[k] ^ x), enc_splits[k])) for k in range(K)}\n",
    "\n",
    "dec = [None] * len(enc)\n",
    "for k in range(K):\n",
    "    dec[k::K] = dec_splits[k]    \n",
    "dec = ''.join(dec)\n",
    "\n",
    "print(f'DECRYPTED: {dec}')\n",
    "print(f'ASCII SUM: {sum(to_ascii(dec))}')"
   ]
  }
 ],
 "metadata": {
  "kernelspec": {
   "display_name": "Python 3",
   "language": "python",
   "name": "python3"
  },
  "language_info": {
   "codemirror_mode": {
    "name": "ipython",
    "version": 3
   },
   "file_extension": ".py",
   "mimetype": "text/x-python",
   "name": "python",
   "nbconvert_exporter": "python",
   "pygments_lexer": "ipython3",
   "version": "3.7.6"
  }
 },
 "nbformat": 4,
 "nbformat_minor": 4
}
