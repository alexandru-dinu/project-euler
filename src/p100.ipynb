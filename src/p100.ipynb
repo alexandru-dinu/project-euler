{
 "cells": [
  {
   "cell_type": "markdown",
   "metadata": {},
   "source": [
    "- $15b, 6r$, probability of $bb$ is $P(bb) = \\frac{15}{21} \\cdot \\frac{14}{20} = \\frac{1}{2}$\n",
    "\n",
    "- The next such arrangement, for which there is exactly $\\frac{1}{2}$ chance of taking $bb$, is: $85b, 35r$\n",
    "\n",
    "- **By finding the first arrangement to contain $n = b + r \\geq 10^{12}$ discs in total, determine $b$**"
   ]
  },
  {
   "cell_type": "markdown",
   "metadata": {},
   "source": [
    "$$\n",
    "\\begin{align}\n",
    "\\frac{b}{n} \\cdot \\frac{b-1}{n-1} &= \\frac{1}{2} \\\\\n",
    "2b^2 - 2b - n^2 + n &= 0\n",
    "\\end{align}\n",
    "$$\n",
    "\n",
    "Using this [QDE solver](https://www.alpertron.com.ar/QUAD.HTM), we obtain:\n",
    "\n",
    "$$\n",
    "\\begin{align}\n",
    "b_{k+1} &= 3b_k + 2n_k - 2 \\\\\n",
    "n_{k+1} &= 4b_k + 3n_k - 3\n",
    "\\end{align}\n",
    "$$"
   ]
  },
  {
   "cell_type": "code",
   "execution_count": 1,
   "metadata": {},
   "outputs": [],
   "source": [
    "b, n, N = 15, 21, 1e12\n",
    "\n",
    "while n < N:\n",
    "    b_ = 3*b + 2*n - 2\n",
    "    n_ = 4*b + 3*n - 3\n",
    "    b, n = b_, n_\n",
    "    \n",
    "b"
   ]
  }
 ],
 "metadata": {
  "kernelspec": {
   "display_name": "Python 3",
   "language": "python",
   "name": "python3"
  },
  "language_info": {
   "codemirror_mode": {
    "name": "ipython",
    "version": 3
   },
   "file_extension": ".py",
   "mimetype": "text/x-python",
   "name": "python",
   "nbconvert_exporter": "python",
   "pygments_lexer": "ipython3",
   "version": "3.7.6"
  }
 },
 "nbformat": 4,
 "nbformat_minor": 4
}
