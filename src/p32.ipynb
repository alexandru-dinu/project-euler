{
 "cells": [
  {
   "cell_type": "code",
   "execution_count": null,
   "metadata": {},
   "outputs": [],
   "source": [
    "from itertools import permutations\n",
    "from tqdm import tqdm\n",
    "\n",
    "to_num = lambda x: int(''.join(map(str, x)))\n",
    "\n",
    "p_digits = permutations(range(1, 10))\n",
    "\n",
    "idx, out = 5, set()\n",
    "\n",
    "for _ in tqdm(range(362880)):\n",
    "    p = next(p_digits)\n",
    "\n",
    "    for i in range(1, idx):\n",
    "        m1, m2, r = map(to_num, [p[:i], p[i:idx], p[idx:]])\n",
    "        if m1 * m2 == r:\n",
    "            out.add(r)\n",
    "\n",
    "sum(out)"
   ]
  }
 ],
 "metadata": {
  "kernelspec": {
   "display_name": "Python 3",
   "language": "python",
   "name": "python3"
  },
  "language_info": {
   "codemirror_mode": {
    "name": "ipython",
    "version": 3
   },
   "file_extension": ".py",
   "mimetype": "text/x-python",
   "name": "python",
   "nbconvert_exporter": "python",
   "pygments_lexer": "ipython3",
   "version": "3.7.6"
  }
 },
 "nbformat": 4,
 "nbformat_minor": 4
}
