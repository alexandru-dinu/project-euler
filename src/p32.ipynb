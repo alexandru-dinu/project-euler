{
 "cells": [
  {
   "cell_type": "code",
   "execution_count": 1,
   "metadata": {},
   "outputs": [
    {
     "name": "stderr",
     "output_type": "stream",
     "text": [
      "100%|██████████| 362880/362880 [00:04<00:00, 79010.60it/s]\n"
     ]
    },
    {
     "data": {
      "text/plain": [
       "45228"
      ]
     },
     "execution_count": 1,
     "metadata": {},
     "output_type": "execute_result"
    }
   ],
   "source": [
    "from itertools import permutations\n",
    "from tqdm import tqdm\n",
    "\n",
    "to_num = lambda x: int(''.join(map(str, x)))\n",
    "\n",
    "p_digits = permutations(range(1, 10))\n",
    "\n",
    "idx, out = 5, set()\n",
    "\n",
    "for _ in tqdm(range(362880)):\n",
    "    p = next(p_digits)\n",
    "\n",
    "    for i in range(1, idx):\n",
    "        m1, m2, r = map(to_num, [p[:i], p[i:idx], p[idx:]])\n",
    "        if m1 * m2 == r:\n",
    "            out.add(r)\n",
    "\n",
    "sum(out)"
   ]
  }
 ],
 "metadata": {
  "kernelspec": {
   "display_name": "Python 3",
   "language": "python",
   "name": "python3"
  },
  "language_info": {
   "codemirror_mode": {
    "name": "ipython",
    "version": 3
   },
   "file_extension": ".py",
   "mimetype": "text/x-python",
   "name": "python",
   "nbconvert_exporter": "python",
   "pygments_lexer": "ipython3",
   "version": "3.7.6"
  }
 },
 "nbformat": 4,
 "nbformat_minor": 4
}
