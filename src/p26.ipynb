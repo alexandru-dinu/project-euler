{
 "cells": [
  {
   "cell_type": "code",
   "execution_count": 1,
   "metadata": {},
   "outputs": [],
   "source": [
    "class divide:\n",
    "    def __init__(self, x, y):\n",
    "        self.x, self.y = x, y\n",
    "        self.i, self.nr, self.r = self.__div(x, y)\n",
    "        \n",
    "    def __str__(self):\n",
    "        nr_ = '' if not self.nr else \"\".join(map(str, self.nr))\n",
    "        r_  = '' if not self.r  else \"\".join(map(str, self.r))\n",
    "\n",
    "        cases = {\n",
    "            (1, 1): f'.{nr_}({r_})',\n",
    "            (1, 0): f'.{nr_}',\n",
    "            (0, 1): f'.({r_})',\n",
    "            (0, 0): f''\n",
    "        }\n",
    "        \n",
    "        lhs = f'{self.x}/{self.y}'\n",
    "        rhs = f'{self.i}{cases[nr_ != \"\", r_ != \"\"]}'\n",
    "        \n",
    "        return f'{lhs} = {rhs}'\n",
    "    \n",
    "    def __repr__(self):\n",
    "        return str(self)\n",
    "        \n",
    "    @staticmethod\n",
    "    def __div(x, y):\n",
    "        assert y != 0\n",
    "\n",
    "        i, r = x // y, x % y\n",
    "\n",
    "        seen, digits = {r: 0}, []\n",
    "\n",
    "        while True:\n",
    "            r *= 10\n",
    "            digits += [r // y]\n",
    "            r %= y\n",
    "\n",
    "            if r in seen:\n",
    "                loc = seen[r]\n",
    "                \n",
    "                if digits[loc:] == [0]: \n",
    "                    digits[loc:] = []\n",
    "                \n",
    "                # integral, non-rep, rep\n",
    "                return i, digits[:loc], digits[loc:]\n",
    "            \n",
    "            seen[r] = len(digits)"
   ]
  },
  {
   "cell_type": "code",
   "execution_count": 2,
   "metadata": {},
   "outputs": [
    {
     "data": {
      "text/plain": [
       "983"
      ]
     },
     "execution_count": 2,
     "metadata": {},
     "output_type": "execute_result"
    }
   ],
   "source": [
    "N, maxr, maxd = 1000, -1, None\n",
    "\n",
    "for n in range(1, N+1):\n",
    "    d = divide(1, n)\n",
    "    if len(d.r) > maxr:\n",
    "        maxr = len(d.r)\n",
    "        maxd = d.y\n",
    "\n",
    "maxd"
   ]
  }
 ],
 "metadata": {
  "kernelspec": {
   "display_name": "Python 3",
   "language": "python",
   "name": "python3"
  },
  "language_info": {
   "codemirror_mode": {
    "name": "ipython",
    "version": 3
   },
   "file_extension": ".py",
   "mimetype": "text/x-python",
   "name": "python",
   "nbconvert_exporter": "python",
   "pygments_lexer": "ipython3",
   "version": "3.7.6"
  }
 },
 "nbformat": 4,
 "nbformat_minor": 4
}
