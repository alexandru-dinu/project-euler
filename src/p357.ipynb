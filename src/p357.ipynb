{
 "cells": [
  {
   "cell_type": "code",
   "execution_count": null,
   "metadata": {},
   "outputs": [],
   "source": [
    "import numpy as np\n",
    "from sympy import divisors, divisor_count, sieve\n",
    "from tqdm import tqdm\n",
    "import multiprocessing as mp\n",
    "import pickle"
   ]
  },
  {
   "cell_type": "code",
   "execution_count": null,
   "metadata": {},
   "outputs": [],
   "source": [
    "N = 1e8\n",
    "\n",
    "try:\n",
    "    prime_set = pickle.load(open('data/prime_set_1e8.pkl', 'rb'))\n",
    "except FileNotFoundError:\n",
    "    sieve._reset()\n",
    "    sieve.extend(N)\n",
    "    prime_set = set(sieve._list)\n",
    "\n",
    "is_prime = lambda x: x in prime_set"
   ]
  },
  {
   "cell_type": "code",
   "execution_count": null,
   "metadata": {},
   "outputs": [],
   "source": [
    "def compute(n):\n",
    "    ds = divisors(n, generator=True)\n",
    "    l  = divisor_count(n)\n",
    "    \n",
    "    if l % 2 == 1:\n",
    "        return False\n",
    "\n",
    "    for i in range(l//2):\n",
    "        d = next(ds)\n",
    "        if not is_prime(d + n//d):\n",
    "            return False\n",
    "\n",
    "    return True\n",
    "\n",
    "    \n",
    "    \n",
    "def do_batched(batch):\n",
    "    s = 0\n",
    "    for n in tqdm(batch):\n",
    "        if compute(n):\n",
    "            s += n\n",
    "    return s"
   ]
  },
  {
   "cell_type": "code",
   "execution_count": null,
   "metadata": {},
   "outputs": [],
   "source": [
    "batches = np.arange(N, dtype=int).reshape(100, -1).tolist()\n",
    "\n",
    "pool = mp.Pool(processes=6)\n",
    "out = pool.map(do_batched, batches)\n",
    "\n",
    "sum(out)"
   ]
  }
 ],
 "metadata": {
  "kernelspec": {
   "display_name": "Python 3",
   "language": "python",
   "name": "python3"
  },
  "language_info": {
   "codemirror_mode": {
    "name": "ipython",
    "version": 3
   },
   "file_extension": ".py",
   "mimetype": "text/x-python",
   "name": "python",
   "nbconvert_exporter": "python",
   "pygments_lexer": "ipython3",
   "version": "3.7.6"
  }
 },
 "nbformat": 4,
 "nbformat_minor": 4
}
