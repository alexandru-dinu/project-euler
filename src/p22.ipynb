{
 "cells": [
  {
   "cell_type": "code",
   "execution_count": 1,
   "metadata": {},
   "outputs": [],
   "source": [
    "import string"
   ]
  },
  {
   "cell_type": "code",
   "execution_count": 2,
   "metadata": {},
   "outputs": [
    {
     "data": {
      "text/plain": [
       "871198282"
      ]
     },
     "execution_count": 2,
     "metadata": {},
     "output_type": "execute_result"
    }
   ],
   "source": [
    "names = open('data/p022_names.txt').read().strip().replace('\"', '').split(',')\n",
    "names = sorted(names)\n",
    "\n",
    "n2i = {name.lower(): i+1 for (i, name) in enumerate(names)}\n",
    "a2i = {a: i+1 for (i, a) in enumerate(string.ascii_lowercase)}\n",
    "\n",
    "score = lambda name: n2i[name] * sum([a2i[c] for c in name])\n",
    "\n",
    "sum([score(name) for name in n2i])"
   ]
  }
 ],
 "metadata": {
  "kernelspec": {
   "display_name": "Python 3",
   "language": "python",
   "name": "python3"
  },
  "language_info": {
   "codemirror_mode": {
    "name": "ipython",
    "version": 3
   },
   "file_extension": ".py",
   "mimetype": "text/x-python",
   "name": "python",
   "nbconvert_exporter": "python",
   "pygments_lexer": "ipython3",
   "version": "3.7.6"
  }
 },
 "nbformat": 4,
 "nbformat_minor": 4
}
