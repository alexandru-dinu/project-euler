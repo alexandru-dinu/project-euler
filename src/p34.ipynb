{
 "cells": [
  {
   "cell_type": "code",
   "execution_count": 1,
   "metadata": {},
   "outputs": [],
   "source": [
    "from math import factorial as f\n",
    "from math import log\n",
    "from tqdm import tqdm"
   ]
  },
  {
   "cell_type": "code",
   "execution_count": 2,
   "metadata": {},
   "outputs": [
    {
     "name": "stderr",
     "output_type": "stream",
     "text": [
      "100%|██████████| 2540150/2540150 [00:04<00:00, 528933.10it/s]\n"
     ]
    },
    {
     "data": {
      "text/plain": [
       "40730"
      ]
     },
     "execution_count": 2,
     "metadata": {},
     "output_type": "execute_result"
    }
   ],
   "source": [
    "digits = lambda x: list(map(int, str(x)))\n",
    "d = lambda n: np.ceil(log(n) / log(10)).astype(int)\n",
    "\n",
    "def get_upper_bound():\n",
    "    n = 9\n",
    "    \n",
    "    while True:\n",
    "        s = sum(map(f, digits(n)))\n",
    "        \n",
    "        # if n is at least 1 order of magnitude larger than s,\n",
    "        # there's no point searching further\n",
    "        if d(n) > d(s):\n",
    "            return (d(n) - 1) * f(9)\n",
    "        \n",
    "        n = n * 10 + 9\n",
    "\n",
    "s, ub = 0, get_upper_bound()\n",
    "\n",
    "for n in tqdm(range(10, ub)):\n",
    "    if sum(map(f, digits(n))) == n:\n",
    "        s += n\n",
    "\n",
    "s"
   ]
  }
 ],
 "metadata": {
  "kernelspec": {
   "display_name": "Python 3",
   "language": "python",
   "name": "python3"
  },
  "language_info": {
   "codemirror_mode": {
    "name": "ipython",
    "version": 3
   },
   "file_extension": ".py",
   "mimetype": "text/x-python",
   "name": "python",
   "nbconvert_exporter": "python",
   "pygments_lexer": "ipython3",
   "version": "3.7.6"
  }
 },
 "nbformat": 4,
 "nbformat_minor": 4
}
