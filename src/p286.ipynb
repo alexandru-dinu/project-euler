{
 "cells": [
  {
   "cell_type": "markdown",
   "metadata": {},
   "source": [
    "## Statement\n",
    "\n",
    "$P(\\text{score}|\\text{dist}=x) = 1 - \\dfrac{x}{q}, \\ q > 50$\n",
    "\n",
    "- during each practice run, shoot from distances $x =\\overline{1 \\dots 50}$ \n",
    "- precisely $2 \\%$ chance to score a total of exactly $20$ points\n",
    "- **find $q$, rounded to $10$ decimal places**\n",
    "\n",
    "## Solution\n",
    "The underlying distribution counting $k$ successes from $n$ trials, where the trials are not necessarily identically distributed, is the [Poisson binomial distribution](https://en.wikipedia.org/wiki/Poisson_binomial_distribution).\n",
    "\n",
    "However, computing $\\Pr(K=20)$ using the pmf is infeasible.\n",
    "\n",
    "### Dynamic programming\n",
    "Let $P_n(k)$ denote the probability of obtaining $k$ successes in $n$ trials:\n",
    "- $P_1(0) = 1-p_1$\n",
    "- $P_1(1) = p_1$\n",
    "- $P_n(0) = P_{n-1}(0) \\cdot (1-p_n)$ (only failures in all trials)\n",
    "- $P_n(n) = P_{n-1}(n-1) \\cdot p_n$ (only successes in all trials)\n",
    "\n",
    "The general formula is:\n",
    "$P_n(k) = P_{n-1}(k-1) \\cdot p_n + P_{n-1}(k) \\cdot (1 - p_n)$\n",
    "\n",
    "That is, there are two cases:\n",
    "- get $k-1$ successes in the last $n-1$ trials, and get a final success $p_n$\n",
    "- get $k$ successes in the last $n-1$ trials, and get a final failure $(1 - p_n)$\n",
    "\n",
    "In our case: $p_x = 1-\\dfrac{x}{q}$ and $P_{50}(20) = 0.02$.\n",
    "\n",
    "## References\n",
    "- https://stats.stackexchange.com/questions/177199/success-of-bernoulli-trials-with-different-probabilities\n",
    "- http://csg.sph.umich.edu/abecasis/class/2006/615.05.pdf"
   ]
  },
  {
   "cell_type": "code",
   "execution_count": null,
   "metadata": {},
   "outputs": [],
   "source": [
    "import numpy as np\n",
    "from sympy import *"
   ]
  },
  {
   "cell_type": "code",
   "execution_count": null,
   "metadata": {},
   "outputs": [],
   "source": [
    "q = symbols('q')\n",
    "p = lambda x: 1 - x / q\n",
    "\n",
    "n = 50 # trials\n",
    "k = 20 # successes\n",
    "\n",
    "P = [[0 for _ in range(n + 1)] for _ in range(n + 1)]\n",
    "\n",
    "P[1][0] = 1 - p(1)\n",
    "P[1][1] = p(1)\n",
    "\n",
    "for cur_n in range(2, n + 1):\n",
    "    P[cur_n][0] = P[cur_n - 1][0] * (1 - p(cur_n))\n",
    "    \n",
    "for cur_n in range(2, n + 1):\n",
    "    P[cur_n][cur_n] = P[cur_n - 1][cur_n - 1] * p(cur_n)\n",
    "\n",
    "for cur_n in range(2, n + 1):\n",
    "    for cur_k in range(1, min(k + 1, cur_n + 1)):\n",
    "        P[cur_n][cur_k] = expand(\n",
    "            P[cur_n - 1][cur_k - 1] * p(cur_n) +\n",
    "            P[cur_n - 1][cur_k] * (1 - p(cur_n))\n",
    "        )"
   ]
  },
  {
   "cell_type": "code",
   "execution_count": null,
   "metadata": {},
   "outputs": [],
   "source": [
    "eq = lambda val: P[n][k].evalf(subs={q: val})"
   ]
  },
  {
   "cell_type": "code",
   "execution_count": null,
   "metadata": {},
   "outputs": [],
   "source": [
    "# q is between these 2:\n",
    "lo = 50\n",
    "hi = 53\n",
    "target = 0.02 # P[n][k] must equal this\n",
    "\n",
    "steps = 0\n",
    "precision = 1e-16\n",
    "\n",
    "while not np.isclose(lo - hi, 0, rtol=0, atol=precision):\n",
    "    steps += 1\n",
    "    mid = lo + (hi - lo) / 2\n",
    "    val = float(eq(mid))\n",
    "    \n",
    "    if np.isclose(val, target, rtol=0, atol=precision):\n",
    "        print(f\"{val=}\")\n",
    "        print(f\"{round(mid, 10)=}\")\n",
    "        print(f\"{steps=}\")\n",
    "        break\n",
    "    \n",
    "    elif val > 0.02:\n",
    "        lo = mid #+ delta\n",
    "    \n",
    "    elif val < 0.02:\n",
    "        hi = mid #- delta\n",
    "        \n",
    "    else:\n",
    "        assert False, \"unreachable\""
   ]
  },
  {
   "cell_type": "code",
   "execution_count": null,
   "metadata": {},
   "outputs": [],
   "source": []
  }
 ],
 "metadata": {
  "kernelspec": {
   "display_name": "Python 3 (ipykernel)",
   "language": "python",
   "name": "python3"
  },
  "language_info": {
   "codemirror_mode": {
    "name": "ipython",
    "version": 3
   },
   "file_extension": ".py",
   "mimetype": "text/x-python",
   "name": "python",
   "nbconvert_exporter": "python",
   "pygments_lexer": "ipython3",
   "version": "3.8.12"
  }
 },
 "nbformat": 4,
 "nbformat_minor": 4
}
