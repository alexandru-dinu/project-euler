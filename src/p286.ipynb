{
 "cells": [
  {
   "cell_type": "markdown",
   "metadata": {},
   "source": [
    "$$\n",
    "P(\\text{score}|\\text{dist}=x) = 1 - \\frac{x}{q}, \\ q > 50$$\n",
    "\n",
    "- during each practice run, shoot from distances $x =\\overline{1 \\dots 50}$ \n",
    "- precisely $2 \\%$ chance to score a total of exactly $20$ points\n",
    "- **find $q$, rounded to $10$ decimal places**"
   ]
  },
  {
   "cell_type": "code",
   "execution_count": null,
   "metadata": {},
   "outputs": [],
   "source": []
  }
 ],
 "metadata": {
  "kernelspec": {
   "display_name": "Python 3",
   "language": "python",
   "name": "python3"
  },
  "language_info": {
   "codemirror_mode": {
    "name": "ipython",
    "version": 3
   },
   "file_extension": ".py",
   "mimetype": "text/x-python",
   "name": "python",
   "nbconvert_exporter": "python",
   "pygments_lexer": "ipython3",
   "version": "3.7.6"
  }
 },
 "nbformat": 4,
 "nbformat_minor": 4
}
