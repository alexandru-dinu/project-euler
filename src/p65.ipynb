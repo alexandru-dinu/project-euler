{
 "cells": [
  {
   "cell_type": "code",
   "execution_count": null,
   "metadata": {},
   "outputs": [],
   "source": [
    "from functools import reduce\n",
    "import operator\n",
    "from fractions import Fraction\n",
    "\n",
    "frac = lambda x: Fraction(x).limit_denominator(int(1e20))"
   ]
  },
  {
   "cell_type": "markdown",
   "metadata": {},
   "source": [
    "$\\sqrt{2} = \\left[1;(2)\\right]$\n",
    "\n",
    "$\\sqrt{23} = \\left[4;(1,3,1,8)\\right]$"
   ]
  },
  {
   "cell_type": "code",
   "execution_count": null,
   "metadata": {},
   "outputs": [],
   "source": [
    "class CFrac:\n",
    "    def __init__(self, ini, rep):\n",
    "        self.ini = ini\n",
    "        self.rep = rep\n",
    "        \n",
    "    def iterate(self):\n",
    "        out = []\n",
    "        \n",
    "        for i in range(1, len(self.rep)+1):\n",
    "            rep_ = self.rep[:i]\n",
    "        \n",
    "            f = 0\n",
    "            for r in rep_[::-1]:\n",
    "                f = 1 / (r + f)\n",
    "                \n",
    "            x = self.ini + f\n",
    "            out += [(x, frac(x))]\n",
    "        \n",
    "        return list(zip(*out))\n",
    "        \n",
    "        \n",
    "ini, rep = 2, [1, 2] + reduce(operator.add, [[1,1,4+2*x] for x in range(33)])\n",
    "# ini, rep = 1, [2] * 10\n",
    "\n",
    "e, c = CFrac(ini, rep).iterate()\n",
    "\n",
    "e[-1]"
   ]
  }
 ],
 "metadata": {
  "kernelspec": {
   "display_name": "Python 3",
   "language": "python",
   "name": "python3"
  },
  "language_info": {
   "codemirror_mode": {
    "name": "ipython",
    "version": 3
   },
   "file_extension": ".py",
   "mimetype": "text/x-python",
   "name": "python",
   "nbconvert_exporter": "python",
   "pygments_lexer": "ipython3",
   "version": "3.7.6"
  }
 },
 "nbformat": 4,
 "nbformat_minor": 4
}
