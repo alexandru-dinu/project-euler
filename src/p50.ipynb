{
 "cells": [
  {
   "cell_type": "markdown",
   "metadata": {},
   "source": [
    "- The prime 41, can be written as the sum of six consecutive primes:\n",
    "41 = 2 + 3 + 5 + 7 + 11 + 13\n",
    "\n",
    "- This is the longest sum of consecutive primes that adds to a prime below one-hundred.\n",
    "\n",
    "- The longest sum of consecutive primes below one-thousand that adds to a prime, \n",
    "contains 21 terms, and is equal to 953.\n",
    "\n",
    "- **Which prime, below one-million, can be written as the sum of the most consecutive primes?**"
   ]
  },
  {
   "cell_type": "code",
   "execution_count": 1,
   "metadata": {},
   "outputs": [
    {
     "data": {
      "text/plain": [
       "(78498,)"
      ]
     },
     "execution_count": 1,
     "metadata": {},
     "output_type": "execute_result"
    }
   ],
   "source": [
    "from tqdm import tqdm\n",
    "import numpy as np\n",
    "from sympy import sieve\n",
    "\n",
    "N = 1e6\n",
    "sieve._reset()\n",
    "sieve.extend(N)\n",
    "\n",
    "primes = np.array(sieve._list)\n",
    "prime_set = set(primes)\n",
    "cs = np.cumsum(primes)\n",
    "\n",
    "primes.shape"
   ]
  },
  {
   "cell_type": "markdown",
   "metadata": {},
   "source": [
    "$f(i,n) = \\sum_{i}^{i+n}P_i$\n",
    "\n",
    "$S = \\texttt{primes} < 1000000$\n",
    "\n",
    "$\\exists \\ i^*, n^*: f(i^*, n^*) \\in S \\wedge \\not \\exists \\ i', n' > n^*: \\ f(i', n') \\in S$"
   ]
  },
  {
   "cell_type": "code",
   "execution_count": 3,
   "metadata": {},
   "outputs": [
    {
     "name": "stderr",
     "output_type": "stream",
     "text": [
      "100%|██████████| 78498/78498 [00:01<00:00, 53811.37it/s]\n"
     ]
    }
   ],
   "source": [
    "d = -np.infty\n",
    "p = None\n",
    "\n",
    "for i in tqdm(range(len(primes))):\n",
    "    for j in range(i, -1, -1):\n",
    "        p_ = cs[i] - cs[j]\n",
    "        if p_ > N: break\n",
    "            \n",
    "        if p_ in prime_set and (i - j) > d:\n",
    "            d, p = i-j, p_\n",
    "d, p"
   ]
  }
 ],
 "metadata": {
  "kernelspec": {
   "display_name": "Python 3",
   "language": "python",
   "name": "python3"
  },
  "language_info": {
   "codemirror_mode": {
    "name": "ipython",
    "version": 3
   },
   "file_extension": ".py",
   "mimetype": "text/x-python",
   "name": "python",
   "nbconvert_exporter": "python",
   "pygments_lexer": "ipython3",
   "version": "3.7.6"
  }
 },
 "nbformat": 4,
 "nbformat_minor": 4
}
