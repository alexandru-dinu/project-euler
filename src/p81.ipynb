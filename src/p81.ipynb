{
 "cells": [
  {
   "cell_type": "code",
   "execution_count": 1,
   "metadata": {},
   "outputs": [],
   "source": [
    "import numpy as np"
   ]
  },
  {
   "cell_type": "markdown",
   "metadata": {},
   "source": [
    "$M_{ij}^* \\leftarrow M_{ij} + \\min \\left\\{ M_{i+1,j}^*, M_{i,j+1}^* \\right\\}$"
   ]
  },
  {
   "cell_type": "code",
   "execution_count": 2,
   "metadata": {
    "scrolled": false
   },
   "outputs": [
    {
     "name": "stdout",
     "output_type": "stream",
     "text": [
      "total cost: 427337\n"
     ]
    }
   ],
   "source": [
    "M = np.array([\n",
    "    131, 673, 234, 103, 18,\n",
    "    201, 96,  342, 965, 150,\n",
    "    630, 803, 746, 422, 111,\n",
    "    537, 699, 497, 121, 956,\n",
    "    805, 732, 524, 37,  331,\n",
    "]).reshape(5,5)\n",
    "\n",
    "M = np.array([\n",
    "    list(map(int, r.strip().split(','))) \n",
    "    for r in open('data/p081_matrix.txt').readlines()\n",
    "])\n",
    "\n",
    "n = len(M)\n",
    "\n",
    "# costs for last row: cumulative sum from n-1 -> 0\n",
    "M[n-1, :] = M[n-1, :][::-1].cumsum()[::-1]\n",
    "\n",
    "# costs for last column: cumulative sum from n-1 -> 0\n",
    "M[:, n-1] = M[:, n-1][::-1].cumsum()[::-1]\n",
    "    \n",
    "for i in range(n-2, -1, -1):\n",
    "    for j in range(n-2, -1, -1):\n",
    "        # M[i+1, j] and M[i, j+1] already contain the min cost\n",
    "        M[i,j] += min(M[i+1,j], M[i,j+1])\n",
    "\n",
    "print(f'total cost: {M[0,0]}')"
   ]
  }
 ],
 "metadata": {
  "kernelspec": {
   "display_name": "Python 3",
   "language": "python",
   "name": "python3"
  },
  "language_info": {
   "codemirror_mode": {
    "name": "ipython",
    "version": 3
   },
   "file_extension": ".py",
   "mimetype": "text/x-python",
   "name": "python",
   "nbconvert_exporter": "python",
   "pygments_lexer": "ipython3",
   "version": "3.7.6"
  }
 },
 "nbformat": 4,
 "nbformat_minor": 4
}
