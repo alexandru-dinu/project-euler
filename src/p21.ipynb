{
 "cells": [
  {
   "cell_type": "code",
   "execution_count": 1,
   "metadata": {},
   "outputs": [
    {
     "data": {
      "text/plain": [
       "31626"
      ]
     },
     "execution_count": 1,
     "metadata": {},
     "output_type": "execute_result"
    }
   ],
   "source": [
    "from sympy import divisors\n",
    "\n",
    "# sum of proper divisors, notation from the problem\n",
    "d = lambda x: sum(divisors(x)[:-1])\n",
    "\n",
    "s = []\n",
    "for a in range(10000):\n",
    "    if a != d(a) and d(d(a)) == a:\n",
    "        s += [a]\n",
    "        \n",
    "sum(s)"
   ]
  }
 ],
 "metadata": {
  "kernelspec": {
   "display_name": "Python 3",
   "language": "python",
   "name": "python3"
  },
  "language_info": {
   "codemirror_mode": {
    "name": "ipython",
    "version": 3
   },
   "file_extension": ".py",
   "mimetype": "text/x-python",
   "name": "python",
   "nbconvert_exporter": "python",
   "pygments_lexer": "ipython3",
   "version": "3.7.6"
  }
 },
 "nbformat": 4,
 "nbformat_minor": 4
}
