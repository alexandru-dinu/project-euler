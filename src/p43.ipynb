{
 "cells": [
  {
   "cell_type": "markdown",
   "metadata": {},
   "source": [
    "0 to 9 pandigital number (e.g. $1406357289$)\n",
    "\n",
    "$\n",
    "\\begin{align}\n",
    "d_2 d_3 d_4=406 \\ &\\vdots \\ 2 \\\\\n",
    "d_3 d_4 d_5=063 \\ &\\vdots \\ 3 \\\\\n",
    "d_4 d_5 d_6=635 \\ &\\vdots \\ 5 \\\\\n",
    "d_5 d_6 d_7=357 \\ &\\vdots \\ 7 \\\\\n",
    "d_6 d_7 d_8=572 \\ &\\vdots \\ 11 \\\\\n",
    "d_7 d_8 d_9=728 \\ &\\vdots \\ 13 \\\\\n",
    "d_8 d_9 d_{10}=289 \\ &\\vdots \\ 17\n",
    "\\end{align}\n",
    "$\n",
    "\n",
    "find the sum of all 0 to 9 pandigital numbers with this property"
   ]
  },
  {
   "cell_type": "code",
   "execution_count": 1,
   "metadata": {},
   "outputs": [
    {
     "name": "stdout",
     "output_type": "stream",
     "text": [
      "[1406357289, 1430952867, 1460357289, 4106357289, 4130952867, 4160357289]\n",
      "sum: 16695334890\n",
      "CPU times: user 704 ms, sys: 6.46 ms, total: 710 ms\n",
      "Wall time: 710 ms\n"
     ]
    }
   ],
   "source": [
    "%%time\n",
    "\n",
    "from itertools import permutations\n",
    "\n",
    "nums = []\n",
    "\n",
    "for d in permutations(range(10)):\n",
    "    if d[0] == 0: continue\n",
    "    if d[5] not in {0, 5}: continue\n",
    "    if d[3] not in {0, 2, 4, 6, 8}: continue\n",
    "    if (d[2]*100 + d[3]*10 + d[4]) %  3 > 0: continue\n",
    "    if (d[4]*100 + d[5]*10 + d[6]) %  7 > 0: continue\n",
    "    if (d[5]*100 + d[6]*10 + d[7]) % 11 > 0: continue\n",
    "    if (d[6]*100 + d[7]*10 + d[8]) % 13 > 0: continue\n",
    "    if (d[7]*100 + d[8]*10 + d[9]) % 17 > 0: continue\n",
    "\n",
    "    nums += [int(''.join(map(str, d)))]\n",
    "    \n",
    "print(nums)\n",
    "print(f'sum: {sum(nums)}')"
   ]
  }
 ],
 "metadata": {
  "kernelspec": {
   "display_name": "Python 3",
   "language": "python",
   "name": "python3"
  },
  "language_info": {
   "codemirror_mode": {
    "name": "ipython",
    "version": 3
   },
   "file_extension": ".py",
   "mimetype": "text/x-python",
   "name": "python",
   "nbconvert_exporter": "python",
   "pygments_lexer": "ipython3",
   "version": "3.7.6"
  }
 },
 "nbformat": 4,
 "nbformat_minor": 4
}
