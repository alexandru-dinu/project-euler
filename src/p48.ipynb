{
 "cells": [
  {
   "cell_type": "markdown",
   "metadata": {},
   "source": [
    "- The series, $1^1 + 2^2 + 3^3 + ... + 10^{10} = 10405071317$.\n",
    "- Find the last ten digits of the series, $1^1 + 2^2 + 3^3 + ... + 1000^{1000}$.\n",
    "- That is, $\\sum_{n=1}^{1000} n^n \\bmod 10^{10}$"
   ]
  },
  {
   "cell_type": "code",
   "execution_count": 2,
   "metadata": {},
   "outputs": [],
   "source": [
    "N, mod = 1000, int(1e10)\n",
    "sum([pow(x, x, mod) for x in range(1, N+1)]) % mod"
   ]
  }
 ],
 "metadata": {
  "kernelspec": {
   "display_name": "Python 3",
   "language": "python",
   "name": "python3"
  },
  "language_info": {
   "codemirror_mode": {
    "name": "ipython",
    "version": 3
   },
   "file_extension": ".py",
   "mimetype": "text/x-python",
   "name": "python",
   "nbconvert_exporter": "python",
   "pygments_lexer": "ipython3",
   "version": "3.7.6"
  }
 },
 "nbformat": 4,
 "nbformat_minor": 4
}
